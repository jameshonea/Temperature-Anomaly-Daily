{
 "cells": [
  {
   "cell_type": "markdown",
   "metadata": {},
   "source": [
    "One way to test for a warming climate is to measure the number of days above and below average over a time period. If temperature were not increasing, a reasonable conclusion is that the number of days above and below average would be roughly equal over long enough time periods. By contrast, a warming climate would see more days above average than below. We can calculate this by checking each day against a 30 year rolling average for that particular day in year and measuring the deviation from this number."
   ]
  },
  {
   "cell_type": "code",
   "execution_count": 1,
   "metadata": {},
   "outputs": [],
   "source": [
    "import pandas as pd\n",
    "import matplotlib.pyplot as plt\n",
    "%matplotlib inline"
   ]
  },
  {
   "cell_type": "code",
   "execution_count": 8,
   "metadata": {
    "scrolled": true
   },
   "outputs": [
    {
     "data": {
      "text/html": [
       "<div>\n",
       "<style scoped>\n",
       "    .dataframe tbody tr th:only-of-type {\n",
       "        vertical-align: middle;\n",
       "    }\n",
       "\n",
       "    .dataframe tbody tr th {\n",
       "        vertical-align: top;\n",
       "    }\n",
       "\n",
       "    .dataframe thead th {\n",
       "        text-align: right;\n",
       "    }\n",
       "</style>\n",
       "<table border=\"1\" class=\"dataframe\">\n",
       "  <thead>\n",
       "    <tr style=\"text-align: right;\">\n",
       "      <th></th>\n",
       "      <th>DATE</th>\n",
       "      <th>TMAX</th>\n",
       "      <th>TMIN</th>\n",
       "      <th>YEAR</th>\n",
       "      <th>DOY</th>\n",
       "    </tr>\n",
       "  </thead>\n",
       "  <tbody>\n",
       "    <tr>\n",
       "      <th>0</th>\n",
       "      <td>1901-01-01</td>\n",
       "      <td>20.0</td>\n",
       "      <td>-4.0</td>\n",
       "      <td>1901</td>\n",
       "      <td>1</td>\n",
       "    </tr>\n",
       "    <tr>\n",
       "      <th>1</th>\n",
       "      <td>1901-01-02</td>\n",
       "      <td>21.0</td>\n",
       "      <td>-12.0</td>\n",
       "      <td>1901</td>\n",
       "      <td>2</td>\n",
       "    </tr>\n",
       "    <tr>\n",
       "      <th>2</th>\n",
       "      <td>1901-01-03</td>\n",
       "      <td>28.0</td>\n",
       "      <td>-6.0</td>\n",
       "      <td>1901</td>\n",
       "      <td>3</td>\n",
       "    </tr>\n",
       "    <tr>\n",
       "      <th>3</th>\n",
       "      <td>1901-01-04</td>\n",
       "      <td>40.0</td>\n",
       "      <td>3.0</td>\n",
       "      <td>1901</td>\n",
       "      <td>4</td>\n",
       "    </tr>\n",
       "    <tr>\n",
       "      <th>4</th>\n",
       "      <td>1901-01-05</td>\n",
       "      <td>35.0</td>\n",
       "      <td>18.0</td>\n",
       "      <td>1901</td>\n",
       "      <td>5</td>\n",
       "    </tr>\n",
       "  </tbody>\n",
       "</table>\n",
       "</div>"
      ],
      "text/plain": [
       "        DATE  TMAX  TMIN  YEAR  DOY\n",
       "0 1901-01-01  20.0  -4.0  1901    1\n",
       "1 1901-01-02  21.0 -12.0  1901    2\n",
       "2 1901-01-03  28.0  -6.0  1901    3\n",
       "3 1901-01-04  40.0   3.0  1901    4\n",
       "4 1901-01-05  35.0  18.0  1901    5"
      ]
     },
     "execution_count": 8,
     "metadata": {},
     "output_type": "execute_result"
    }
   ],
   "source": [
    "whitestown = pd.read_csv('C:\\csv\\whitestownweather.csv')\n",
    "\n",
    "cols = ['DATE', 'TMAX', 'TMIN']\n",
    "\n",
    "whitestown = whitestown[cols]\n",
    "whitestown['DATE'] = pd.to_datetime(whitestown['DATE'])\n",
    "whitestown['YEAR'] = whitestown['DATE'].dt.year\n",
    "whitestown['DOY'] = whitestown['DATE'].dt.dayofyear # day of year\n",
    "whitestown.head()"
   ]
  },
  {
   "cell_type": "markdown",
   "metadata": {},
   "source": [
    "Let's start with 1969. We will slice this data out but still use the original dateframe to calculate with (because we need 1938-1968)."
   ]
  },
  {
   "cell_type": "code",
   "execution_count": 35,
   "metadata": {},
   "outputs": [
    {
     "data": {
      "text/html": [
       "<div>\n",
       "<style scoped>\n",
       "    .dataframe tbody tr th:only-of-type {\n",
       "        vertical-align: middle;\n",
       "    }\n",
       "\n",
       "    .dataframe tbody tr th {\n",
       "        vertical-align: top;\n",
       "    }\n",
       "\n",
       "    .dataframe thead th {\n",
       "        text-align: right;\n",
       "    }\n",
       "</style>\n",
       "<table border=\"1\" class=\"dataframe\">\n",
       "  <thead>\n",
       "    <tr style=\"text-align: right;\">\n",
       "      <th></th>\n",
       "      <th>DATE</th>\n",
       "      <th>TMAX</th>\n",
       "      <th>TMIN</th>\n",
       "      <th>YEAR</th>\n",
       "      <th>DOY</th>\n",
       "    </tr>\n",
       "  </thead>\n",
       "  <tbody>\n",
       "    <tr>\n",
       "      <th>32837</th>\n",
       "      <td>1991-01-01</td>\n",
       "      <td>34.0</td>\n",
       "      <td>14.0</td>\n",
       "      <td>1991</td>\n",
       "      <td>1</td>\n",
       "    </tr>\n",
       "    <tr>\n",
       "      <th>32838</th>\n",
       "      <td>1991-01-02</td>\n",
       "      <td>34.0</td>\n",
       "      <td>19.0</td>\n",
       "      <td>1991</td>\n",
       "      <td>2</td>\n",
       "    </tr>\n",
       "    <tr>\n",
       "      <th>32839</th>\n",
       "      <td>1991-01-03</td>\n",
       "      <td>28.0</td>\n",
       "      <td>16.0</td>\n",
       "      <td>1991</td>\n",
       "      <td>3</td>\n",
       "    </tr>\n",
       "    <tr>\n",
       "      <th>32840</th>\n",
       "      <td>1991-01-04</td>\n",
       "      <td>29.0</td>\n",
       "      <td>9.0</td>\n",
       "      <td>1991</td>\n",
       "      <td>4</td>\n",
       "    </tr>\n",
       "    <tr>\n",
       "      <th>32841</th>\n",
       "      <td>1991-01-05</td>\n",
       "      <td>34.0</td>\n",
       "      <td>23.0</td>\n",
       "      <td>1991</td>\n",
       "      <td>5</td>\n",
       "    </tr>\n",
       "  </tbody>\n",
       "</table>\n",
       "</div>"
      ],
      "text/plain": [
       "            DATE  TMAX  TMIN  YEAR  DOY\n",
       "32837 1991-01-01  34.0  14.0  1991    1\n",
       "32838 1991-01-02  34.0  19.0  1991    2\n",
       "32839 1991-01-03  28.0  16.0  1991    3\n",
       "32840 1991-01-04  29.0   9.0  1991    4\n",
       "32841 1991-01-05  34.0  23.0  1991    5"
      ]
     },
     "execution_count": 35,
     "metadata": {},
     "output_type": "execute_result"
    }
   ],
   "source": [
    "whitestown_slice = whitestown[whitestown['YEAR'] > 1990]\n",
    "whitestown_slice.head()"
   ]
  },
  {
   "cell_type": "code",
   "execution_count": 44,
   "metadata": {},
   "outputs": [
    {
     "name": "stderr",
     "output_type": "stream",
     "text": [
      "C:\\Programs\\Anaconda3\\lib\\site-packages\\ipykernel_launcher.py:14: SettingWithCopyWarning: \n",
      "A value is trying to be set on a copy of a slice from a DataFrame.\n",
      "Try using .loc[row_indexer,col_indexer] = value instead\n",
      "\n",
      "See the caveats in the documentation: http://pandas.pydata.org/pandas-docs/stable/indexing.html#indexing-view-versus-copy\n",
      "  \n"
     ]
    }
   ],
   "source": [
    "anom_list = []\n",
    "\n",
    "for index, row in whitestown_slice.iterrows():\n",
    "    start = row[3] - 30\n",
    "    data_slice = whitestown[whitestown['DOY'] == row[4]]\n",
    "    data_slice = data_slice[data_slice['YEAR'] > start]\n",
    "    data_slice = data_slice[data_slice['YEAR'] < row[3]]\n",
    "    \n",
    "    average = data_slice['TMAX'].mean()\n",
    "    anomaly = row[1] - average\n",
    "    \n",
    "    anom_list.append(anomaly)\n",
    "    \n",
    "whitestown_slice['ANOMALY'] = anom_list"
   ]
  },
  {
   "cell_type": "code",
   "execution_count": 45,
   "metadata": {},
   "outputs": [],
   "source": [
    "whitestown_pos = whitestown_slice[whitestown_slice['ANOMALY'] > 0]\n",
    "whitestown_neg = whitestown_slice[whitestown_slice['ANOMALY'] < 0]"
   ]
  },
  {
   "cell_type": "code",
   "execution_count": 46,
   "metadata": {},
   "outputs": [
    {
     "data": {
      "text/plain": [
       "5249"
      ]
     },
     "execution_count": 46,
     "metadata": {},
     "output_type": "execute_result"
    }
   ],
   "source": [
    "whitestown_pos.shape[0]"
   ]
  },
  {
   "cell_type": "code",
   "execution_count": 47,
   "metadata": {},
   "outputs": [
    {
     "data": {
      "text/plain": [
       "4947"
      ]
     },
     "execution_count": 47,
     "metadata": {},
     "output_type": "execute_result"
    }
   ],
   "source": [
    "whitestown_neg.shape[0]"
   ]
  },
  {
   "cell_type": "markdown",
   "metadata": {},
   "source": [
    "So 5249 days were above average and 4947 were below average from 1991-2018. To test the significance of this result we can use a chi-square test."
   ]
  },
  {
   "cell_type": "code",
   "execution_count": 50,
   "metadata": {},
   "outputs": [
    {
     "data": {
      "text/plain": [
       "Power_divergenceResult(statistic=8.945076500588467, pvalue=0.0027821844271509574)"
      ]
     },
     "execution_count": 50,
     "metadata": {},
     "output_type": "execute_result"
    }
   ],
   "source": [
    "from scipy.stats import chisquare\n",
    "\n",
    "expected = [5098, 5098]\n",
    "observed = [5249, 4947]\n",
    "\n",
    "chisquare(observed, expected)"
   ]
  },
  {
   "cell_type": "markdown",
   "metadata": {},
   "source": [
    "The pvalue indicates only a .27% chance that these values occurred randomly, so some forcing factor is likely. This does not necessarily mean that the warming is uniform though. One thing we can do is check the average temperature anomaly for the period for each individual day, and average each day of year's values together to get an average temperature anomaly for each day of the year."
   ]
  },
  {
   "cell_type": "code",
   "execution_count": 58,
   "metadata": {},
   "outputs": [
    {
     "name": "stdout",
     "output_type": "stream",
     "text": [
      "      ANOMALY\n",
      "DOY          \n",
      "1    0.822490\n",
      "2    0.269917\n",
      "3    1.017836\n",
      "4    1.778835\n",
      "5    1.036861\n",
      "6    1.047562\n",
      "7    0.093936\n",
      "8    2.326992\n",
      "9    4.414982\n",
      "10   4.815696\n",
      "11   3.800405\n",
      "12   4.516052\n",
      "13   2.374554\n",
      "14   0.007134\n",
      "15  -0.171225\n",
      "16   0.576694\n",
      "17   0.619968\n",
      "18  -1.268728\n",
      "19  -0.632580\n",
      "20   0.804994\n",
      "21   0.673008\n",
      "22  -0.631391\n",
      "23   0.726516\n",
      "24  -0.117717\n",
      "25  -2.047562\n",
      "26  -0.768133\n",
      "27   1.923900\n",
      "28   1.280618\n",
      "29   2.023781\n",
      "30   1.633302\n",
      "..        ...\n",
      "71  -1.317916\n",
      "72  -1.683498\n",
      "73  -0.608374\n",
      "74   2.866995\n",
      "75   2.805419\n",
      "76   2.551724\n",
      "77   1.881773\n",
      "78   3.025862\n",
      "79   1.890896\n",
      "80   3.536763\n",
      "81   3.202518\n",
      "82   1.524631\n",
      "83   1.174877\n",
      "84   2.067734\n",
      "85   0.274631\n",
      "86   0.255017\n",
      "87   1.247053\n",
      "88  -1.682266\n",
      "89  -0.081281\n",
      "90   3.660099\n",
      "91   0.817734\n",
      "92   2.014778\n",
      "93   4.353448\n",
      "94   2.266010\n",
      "95   0.307882\n",
      "96   2.222906\n",
      "97   1.804187\n",
      "98   0.958128\n",
      "99   2.540640\n",
      "100  4.636654\n",
      "\n",
      "[100 rows x 1 columns]\n"
     ]
    }
   ],
   "source": [
    "cols = ['DOY', 'ANOMALY']\n",
    "anomaly_df = whitestown_slice[cols]\n",
    "print(anomaly_df.groupby(['DOY']).mean().head(100))"
   ]
  },
  {
   "cell_type": "code",
   "execution_count": 116,
   "metadata": {},
   "outputs": [],
   "source": [
    "anom = anomaly_df.groupby(['DOY']).mean()"
   ]
  },
  {
   "cell_type": "code",
   "execution_count": 118,
   "metadata": {},
   "outputs": [],
   "source": [
    "import numpy as np\n",
    "xticks = np.arange(0,18,1.5)\n",
    "\n",
    "month = ['Jan', 'Feb', 'Mar', 'Apr', 'May', 'Jun', 'Jul', 'Aug', 'Sep', 'Oct', 'Nov', 'Dec']"
   ]
  },
  {
   "cell_type": "code",
   "execution_count": 119,
   "metadata": {},
   "outputs": [
    {
     "data": {
      "text/plain": [
       "[Text(0, 0, 'Jan'),\n",
       " Text(0, 0, 'Feb'),\n",
       " Text(0, 0, 'Mar'),\n",
       " Text(0, 0, 'Apr'),\n",
       " Text(0, 0, 'May'),\n",
       " Text(0, 0, 'Jun'),\n",
       " Text(0, 0, 'Jul'),\n",
       " Text(0, 0, 'Aug'),\n",
       " Text(0, 0, 'Sep'),\n",
       " Text(0, 0, 'Oct')]"
      ]
     },
     "execution_count": 119,
     "metadata": {},
     "output_type": "execute_result"
    },
    {
     "data": {
      "image/png": "[encoded data removed]",
      "text/plain": [
       "<Figure size 1296x720 with 1 Axes>"
      ]
     },
     "metadata": {
      "needs_background": "light"
     },
     "output_type": "display_data"
    }
   ],
   "source": [
    "x = np.arange(1,367,1)\n",
    "\n",
    "\n",
    "fig, ax = plt.subplots(figsize=(18,10))\n",
    "#plt.bar(anomaly_df.groupby(['DOY']).mean())\n",
    "#ax.bar(anomaly_df.groupby(['DOY'])['DOY'], anomaly_df.groupby(['DOY'])['ANOMALY'].mean())\n",
    "plt.bar(x,y)\n",
    "plt.xlabel('Month')\n",
    "plt.ylabel(\"Temperature Anomaly\")\n",
    "plt.tick_params(bottom=False)\n",
    "ax.set_xticklabels(month, rotation='vertical')"
   ]
  },
  {
   "cell_type": "code",
   "execution_count": null,
   "metadata": {},
   "outputs": [],
   "source": []
  }
 ],
 "metadata": {
  "kernelspec": {
   "display_name": "Python 3",
   "language": "python",
   "name": "python3"
  },
  "language_info": {
   "codemirror_mode": {
    "name": "ipython",
    "version": 3
   },
   "file_extension": ".py",
   "mimetype": "text/x-python",
   "name": "python",
   "nbconvert_exporter": "python",
   "pygments_lexer": "ipython3",
   "version": "3.7.3"
  }
 },
 "nbformat": 4,
 "nbformat_minor": 2
}
