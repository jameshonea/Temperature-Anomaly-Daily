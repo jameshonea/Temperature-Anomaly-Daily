{
 "cells": [
  {
   "cell_type": "markdown",
   "metadata": {},
   "source": [
    "One way to test for a warming climate is to measure the number of days above and below average over a time period. If temperature were not increasing, a reasonable conclusion is that the number of days above and below average would be roughly equal over long enough time periods. By contrast, a warming climate would see more days above average than below. We can calculate this by checking each day against a 30 year rolling average for that particular day in year and measuring the deviation from this number."
   ]
  },
  {
   "cell_type": "code",
   "execution_count": 1,
   "metadata": {},
   "outputs": [],
   "source": [
    "import pandas as pd\n",
    "import matplotlib.pyplot as plt\n",
    "%matplotlib inline"
   ]
  },
  {
   "cell_type": "code",
   "execution_count": 8,
   "metadata": {
    "scrolled": true
   },
   "outputs": [
    {
     "data": {
      "text/html": [
       "<div>\n",
       "<style scoped>\n",
       "    .dataframe tbody tr th:only-of-type {\n",
       "        vertical-align: middle;\n",
       "    }\n",
       "\n",
       "    .dataframe tbody tr th {\n",
       "        vertical-align: top;\n",
       "    }\n",
       "\n",
       "    .dataframe thead th {\n",
       "        text-align: right;\n",
       "    }\n",
       "</style>\n",
       "<table border=\"1\" class=\"dataframe\">\n",
       "  <thead>\n",
       "    <tr style=\"text-align: right;\">\n",
       "      <th></th>\n",
       "      <th>DATE</th>\n",
       "      <th>TMAX</th>\n",
       "      <th>TMIN</th>\n",
       "      <th>YEAR</th>\n",
       "      <th>DOY</th>\n",
       "    </tr>\n",
       "  </thead>\n",
       "  <tbody>\n",
       "    <tr>\n",
       "      <th>0</th>\n",
       "      <td>1901-01-01</td>\n",
       "      <td>20.0</td>\n",
       "      <td>-4.0</td>\n",
       "      <td>1901</td>\n",
       "      <td>1</td>\n",
       "    </tr>\n",
       "    <tr>\n",
       "      <th>1</th>\n",
       "      <td>1901-01-02</td>\n",
       "      <td>21.0</td>\n",
       "      <td>-12.0</td>\n",
       "      <td>1901</td>\n",
       "      <td>2</td>\n",
       "    </tr>\n",
       "    <tr>\n",
       "      <th>2</th>\n",
       "      <td>1901-01-03</td>\n",
       "      <td>28.0</td>\n",
       "      <td>-6.0</td>\n",
       "      <td>1901</td>\n",
       "      <td>3</td>\n",
       "    </tr>\n",
       "    <tr>\n",
       "      <th>3</th>\n",
       "      <td>1901-01-04</td>\n",
       "      <td>40.0</td>\n",
       "      <td>3.0</td>\n",
       "      <td>1901</td>\n",
       "      <td>4</td>\n",
       "    </tr>\n",
       "    <tr>\n",
       "      <th>4</th>\n",
       "      <td>1901-01-05</td>\n",
       "      <td>35.0</td>\n",
       "      <td>18.0</td>\n",
       "      <td>1901</td>\n",
       "      <td>5</td>\n",
       "    </tr>\n",
       "  </tbody>\n",
       "</table>\n",
       "</div>"
      ],
      "text/plain": [
       "        DATE  TMAX  TMIN  YEAR  DOY\n",
       "0 1901-01-01  20.0  -4.0  1901    1\n",
       "1 1901-01-02  21.0 -12.0  1901    2\n",
       "2 1901-01-03  28.0  -6.0  1901    3\n",
       "3 1901-01-04  40.0   3.0  1901    4\n",
       "4 1901-01-05  35.0  18.0  1901    5"
      ]
     },
     "execution_count": 8,
     "metadata": {},
     "output_type": "execute_result"
    }
   ],
   "source": [
    "whitestown = pd.read_csv('C:\\csv\\whitestownweather.csv')\n",
    "\n",
    "cols = ['DATE', 'TMAX', 'TMIN']\n",
    "\n",
    "whitestown = whitestown[cols]\n",
    "whitestown['DATE'] = pd.to_datetime(whitestown['DATE'])\n",
    "whitestown['YEAR'] = whitestown['DATE'].dt.year\n",
    "whitestown['DOY'] = whitestown['DATE'].dt.dayofyear # day of year\n",
    "whitestown.head()"
   ]
  },
  {
   "cell_type": "markdown",
   "metadata": {},
   "source": [
    "Let's start with 1969. We will slice this data out but still use the original dateframe to calculate with (because we need 1938-1968)."
   ]
  },
  {
   "cell_type": "code",
   "execution_count": 9,
   "metadata": {},
   "outputs": [
    {
     "data": {
      "text/html": [
       "<div>\n",
       "<style scoped>\n",
       "    .dataframe tbody tr th:only-of-type {\n",
       "        vertical-align: middle;\n",
       "    }\n",
       "\n",
       "    .dataframe tbody tr th {\n",
       "        vertical-align: top;\n",
       "    }\n",
       "\n",
       "    .dataframe thead th {\n",
       "        text-align: right;\n",
       "    }\n",
       "</style>\n",
       "<table border=\"1\" class=\"dataframe\">\n",
       "  <thead>\n",
       "    <tr style=\"text-align: right;\">\n",
       "      <th></th>\n",
       "      <th>DATE</th>\n",
       "      <th>TMAX</th>\n",
       "      <th>TMIN</th>\n",
       "      <th>YEAR</th>\n",
       "      <th>DOY</th>\n",
       "    </tr>\n",
       "  </thead>\n",
       "  <tbody>\n",
       "    <tr>\n",
       "      <th>24835</th>\n",
       "      <td>1969-01-01</td>\n",
       "      <td>12.0</td>\n",
       "      <td>-2.0</td>\n",
       "      <td>1969</td>\n",
       "      <td>1</td>\n",
       "    </tr>\n",
       "    <tr>\n",
       "      <th>24836</th>\n",
       "      <td>1969-01-02</td>\n",
       "      <td>17.0</td>\n",
       "      <td>-2.0</td>\n",
       "      <td>1969</td>\n",
       "      <td>2</td>\n",
       "    </tr>\n",
       "    <tr>\n",
       "      <th>24837</th>\n",
       "      <td>1969-01-03</td>\n",
       "      <td>29.0</td>\n",
       "      <td>10.0</td>\n",
       "      <td>1969</td>\n",
       "      <td>3</td>\n",
       "    </tr>\n",
       "    <tr>\n",
       "      <th>24838</th>\n",
       "      <td>1969-01-04</td>\n",
       "      <td>20.0</td>\n",
       "      <td>-4.0</td>\n",
       "      <td>1969</td>\n",
       "      <td>4</td>\n",
       "    </tr>\n",
       "    <tr>\n",
       "      <th>24839</th>\n",
       "      <td>1969-01-05</td>\n",
       "      <td>11.0</td>\n",
       "      <td>-5.0</td>\n",
       "      <td>1969</td>\n",
       "      <td>5</td>\n",
       "    </tr>\n",
       "  </tbody>\n",
       "</table>\n",
       "</div>"
      ],
      "text/plain": [
       "            DATE  TMAX  TMIN  YEAR  DOY\n",
       "24835 1969-01-01  12.0  -2.0  1969    1\n",
       "24836 1969-01-02  17.0  -2.0  1969    2\n",
       "24837 1969-01-03  29.0  10.0  1969    3\n",
       "24838 1969-01-04  20.0  -4.0  1969    4\n",
       "24839 1969-01-05  11.0  -5.0  1969    5"
      ]
     },
     "execution_count": 9,
     "metadata": {},
     "output_type": "execute_result"
    }
   ],
   "source": [
    "whitestown_slice = whitestown[whitestown['YEAR'] > 1968]\n",
    "whitestown_slice.head()"
   ]
  },
  {
   "cell_type": "code",
   "execution_count": 18,
   "metadata": {},
   "outputs": [
    {
     "name": "stderr",
     "output_type": "stream",
     "text": [
      "C:\\Programs\\Anaconda3\\lib\\site-packages\\ipykernel_launcher.py:14: SettingWithCopyWarning: \n",
      "A value is trying to be set on a copy of a slice from a DataFrame.\n",
      "Try using .loc[row_indexer,col_indexer] = value instead\n",
      "\n",
      "See the caveats in the documentation: http://pandas.pydata.org/pandas-docs/stable/indexing.html#indexing-view-versus-copy\n",
      "  \n"
     ]
    }
   ],
   "source": [
    "anom_list = []\n",
    "\n",
    "for index, row in whitestown_slice.iterrows():\n",
    "    start = row[3] - 30\n",
    "    data_slice = whitestown[whitestown['DOY'] == row[4]]\n",
    "    data_slice = data_slice[data_slice['YEAR'] > start]\n",
    "    data_slice = data_slice[data_slice['YEAR'] < row[3]]\n",
    "    \n",
    "    average = data_slice['TMAX'].mean()\n",
    "    anomaly = row[1] - average\n",
    "    \n",
    "    anom_list.append(anomaly)\n",
    "    \n",
    "whitestown_slice['ANOMALY'] = anom_list"
   ]
  },
  {
   "cell_type": "code",
   "execution_count": 19,
   "metadata": {},
   "outputs": [],
   "source": [
    "whitestown_pos = whitestown_slice[whitestown_slice['ANOMALY'] > 0]\n",
    "whitestown_neg = whitestown_slice[whitestown_slice['ANOMALY'] < 0]"
   ]
  },
  {
   "cell_type": "code",
   "execution_count": 20,
   "metadata": {},
   "outputs": [
    {
     "data": {
      "text/plain": [
       "9244"
      ]
     },
     "execution_count": 20,
     "metadata": {},
     "output_type": "execute_result"
    }
   ],
   "source": [
    "whitestown_pos.shape[0]"
   ]
  },
  {
   "cell_type": "code",
   "execution_count": 21,
   "metadata": {},
   "outputs": [
    {
     "data": {
      "text/plain": [
       "8930"
      ]
     },
     "execution_count": 21,
     "metadata": {},
     "output_type": "execute_result"
    }
   ],
   "source": [
    "whitestown_neg.shape[0]"
   ]
  },
  {
   "cell_type": "code",
   "execution_count": 17,
   "metadata": {},
   "outputs": [
    {
     "data": {
      "text/plain": [
       "24835   -14.724138\n",
       "24836   -14.724138\n",
       "24837   -14.724138\n",
       "24838   -14.724138\n",
       "24839   -14.724138\n",
       "24840   -14.724138\n",
       "24841   -14.724138\n",
       "24842   -14.724138\n",
       "24843   -14.724138\n",
       "24844   -14.724138\n",
       "24845   -14.724138\n",
       "24846   -14.724138\n",
       "24847   -14.724138\n",
       "24848   -14.724138\n",
       "24849   -14.724138\n",
       "24850   -14.724138\n",
       "24851   -14.724138\n",
       "24852   -14.724138\n",
       "24853   -14.724138\n",
       "24854   -14.724138\n",
       "24855   -14.724138\n",
       "24856   -14.724138\n",
       "24857   -14.724138\n",
       "24858   -14.724138\n",
       "24859   -14.724138\n",
       "24860   -14.724138\n",
       "24861   -14.724138\n",
       "24862   -14.724138\n",
       "24863   -14.724138\n",
       "24864   -14.724138\n",
       "           ...    \n",
       "24905   -14.724138\n",
       "24906   -14.724138\n",
       "24907   -14.724138\n",
       "24908   -14.724138\n",
       "24909   -14.724138\n",
       "24910   -14.724138\n",
       "24911   -14.724138\n",
       "24912   -14.724138\n",
       "24913   -14.724138\n",
       "24914   -14.724138\n",
       "24915   -14.724138\n",
       "24916   -14.724138\n",
       "24917   -14.724138\n",
       "24918   -14.724138\n",
       "24919   -14.724138\n",
       "24920   -14.724138\n",
       "24921   -14.724138\n",
       "24922   -14.724138\n",
       "24923   -14.724138\n",
       "24924   -14.724138\n",
       "24925   -14.724138\n",
       "24926   -14.724138\n",
       "24927   -14.724138\n",
       "24928   -14.724138\n",
       "24929   -14.724138\n",
       "24930   -14.724138\n",
       "24931   -14.724138\n",
       "24932   -14.724138\n",
       "24933   -14.724138\n",
       "24934   -14.724138\n",
       "Name: ANOMALY, Length: 100, dtype: float64"
      ]
     },
     "execution_count": 17,
     "metadata": {},
     "output_type": "execute_result"
    }
   ],
   "source": [
    "whitestown_slice['ANOMALY'].head(100)"
   ]
  },
  {
   "cell_type": "code",
   "execution_count": null,
   "metadata": {},
   "outputs": [],
   "source": []
  }
 ],
 "metadata": {
  "kernelspec": {
   "display_name": "Python 3",
   "language": "python",
   "name": "python3"
  },
  "language_info": {
   "codemirror_mode": {
    "name": "ipython",
    "version": 3
   },
   "file_extension": ".py",
   "mimetype": "text/x-python",
   "name": "python",
   "nbconvert_exporter": "python",
   "pygments_lexer": "ipython3",
   "version": "3.7.3"
  }
 },
 "nbformat": 4,
 "nbformat_minor": 2
}
